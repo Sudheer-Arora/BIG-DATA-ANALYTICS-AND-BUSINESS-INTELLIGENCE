{
  "nbformat": 4,
  "nbformat_minor": 0,
  "metadata": {
    "colab": {
      "provenance": []
    },
    "kernelspec": {
      "name": "python3",
      "display_name": "Python 3"
    },
    "language_info": {
      "name": "python"
    }
  },
  "cells": [
    {
      "cell_type": "code",
      "execution_count": null,
      "metadata": {
        "colab": {
          "base_uri": "https://localhost:8080/"
        },
        "id": "rvm8qfxKuMwN",
        "outputId": "ced73b38-b4bf-4499-98fa-3db4cb3f0b59"
      },
      "outputs": [
        {
          "output_type": "stream",
          "name": "stdout",
          "text": [
            "[5 4 6 3 2 1]\n"
          ]
        }
      ],
      "source": [
        "import numpy as np\n",
        "a=np.array([1,2,3,6,4,5])\n",
        "print(np.flip(a))"
      ]
    },
    {
      "cell_type": "code",
      "source": [
        "b=np.array([[1,2],[3,4]])\n",
        "c=np.array([[1,2],[3,4]])\n",
        "print(b==c)"
      ],
      "metadata": {
        "colab": {
          "base_uri": "https://localhost:8080/"
        },
        "id": "19oeKuaAu3X-",
        "outputId": "bd634d6e-f57f-4822-8a47-64b7f34233b5"
      },
      "execution_count": null,
      "outputs": [
        {
          "output_type": "stream",
          "name": "stdout",
          "text": [
            "[[ True  True]\n",
            " [ True  True]]\n"
          ]
        }
      ]
    },
    {
      "cell_type": "code",
      "source": [
        "x=np.array([1,2,3,4,5,1,2,1,1,1])\n",
        "y=np.array([1,1,1,2,3,4,2,4,3,3])\n",
        "print(f\"The most frequent value in  first array is :{np.bincount(x).argmax()}\")\n",
        "print(f\"The index of most frequent values of first array are {np.where(x==(np.bincount(x).argmax()))}\")\n",
        "print(f\"The most frequent value in  second array is :{np.bincount(y).argmax()}\")\n",
        "print(f\"The index of most frequent values of second array are {np.where(y==(np.bincount(y).argmax()))}\")"
      ],
      "metadata": {
        "colab": {
          "base_uri": "https://localhost:8080/"
        },
        "id": "FxJImzZovAEW",
        "outputId": "a5246aaf-4fab-4d76-95a8-6dbb0deb682d"
      },
      "execution_count": null,
      "outputs": [
        {
          "output_type": "stream",
          "name": "stdout",
          "text": [
            "The most frequent value in  first array is :1\n",
            "The index of most frequent values of first array are (array([0, 5, 7, 8, 9]),)\n",
            "The most frequent value in  second array is :1\n",
            "The index of most frequent values of second array are (array([0, 1, 2]),)\n"
          ]
        }
      ]
    },
    {
      "cell_type": "code",
      "source": [
        "x = np.matrix(\"[4, 1, 9; 12, 3, 1; 4, 5, 6]\")\n",
        "print(x)\n",
        "print(f\"The sum of matrix is {np.sum(x)}\")\n",
        "print(f\"The sum of all rows are {x.sum(axis=1)}\")\n",
        "print(f\"The sum of all columns  are {x.sum(axis=0)}\")"
      ],
      "metadata": {
        "colab": {
          "base_uri": "https://localhost:8080/"
        },
        "id": "ZjgLAAyrvQ2y",
        "outputId": "7596d38f-2e40-49fc-f3b6-22d573e0a645"
      },
      "execution_count": null,
      "outputs": [
        {
          "output_type": "stream",
          "name": "stdout",
          "text": [
            "[[ 4  1  9]\n",
            " [12  3  1]\n",
            " [ 4  5  6]]\n",
            "The sum of matrix is 45\n",
            "The sum of all rows are [[14]\n",
            " [16]\n",
            " [15]]\n",
            "The sum of all columns  are [[20  9 16]]\n"
          ]
        }
      ]
    }
  ]
}