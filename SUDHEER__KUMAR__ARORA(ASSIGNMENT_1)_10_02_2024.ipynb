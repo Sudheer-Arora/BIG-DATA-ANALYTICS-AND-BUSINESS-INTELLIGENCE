{
  "nbformat": 4,
  "nbformat_minor": 0,
  "metadata": {
    "colab": {
      "provenance": []
    },
    "kernelspec": {
      "name": "python3",
      "display_name": "Python 3"
    },
    "language_info": {
      "name": "python"
    }
  },
  "cells": [
    {
      "cell_type": "code",
      "execution_count": null,
      "metadata": {
        "colab": {
          "base_uri": "https://localhost:8080/"
        },
        "id": "ZgklwFkG_e5Y",
        "outputId": "6d4bffc8-f796-4bda-90e2-8d8436bf3f4e"
      },
      "outputs": [
        {
          "output_type": "stream",
          "name": "stdout",
          "text": [
            "Hello\n"
          ]
        }
      ],
      "source": [
        "print(\"Hello\")"
      ]
    },
    {
      "cell_type": "code",
      "source": [
        "import numpy as np\n",
        "arr=np.array([1,2,3,6,4,5])\n",
        "ans=arr[::-1]\n",
        "print(ans)"
      ],
      "metadata": {
        "colab": {
          "base_uri": "https://localhost:8080/"
        },
        "id": "61r6P36hEARn",
        "outputId": "d5dd1c4c-c80e-41fd-f76a-cf3483012cfc"
      },
      "execution_count": null,
      "outputs": [
        {
          "output_type": "stream",
          "name": "stdout",
          "text": [
            "[5 4 6 3 2 1]\n"
          ]
        }
      ]
    },
    {
      "cell_type": "code",
      "source": [
        "import numpy as np\n",
        "arr1=np.array([[1,2],[3,4]])\n",
        "arr2=np.array([[1,2],[3,4]])\n",
        "arr1==arr2"
      ],
      "metadata": {
        "colab": {
          "base_uri": "https://localhost:8080/"
        },
        "id": "hvxmv_nNItGh",
        "outputId": "dab4c67d-3ae9-4ba2-dc53-55e0862fb8e3"
      },
      "execution_count": null,
      "outputs": [
        {
          "output_type": "execute_result",
          "data": {
            "text/plain": [
              "array([[ True,  True],\n",
              "       [ True,  True]])"
            ]
          },
          "metadata": {},
          "execution_count": 7
        }
      ]
    },
    {
      "cell_type": "code",
      "source": [
        "import numpy as np\n",
        "x=np.array([1,2,3,4,5,1,2,1,1,1])\n",
        "y=np.array([1,1,1,2,3,4,2,4,3,3,])\n",
        "array,counts=np.unique(x,return_counts=True)\n",
        "mfe1=array[np.argmax(counts)]\n",
        "list1=[]\n",
        "for i in range(len(x)):\n",
        "  if(x[i]==mfe1):\n",
        "    list1.append(i)\n",
        "print(f\"mfe1: {mfe1}, indeces:{list1}\")\n",
        "array,counts=np.unique(y,return_counts=True)\n",
        "mfe2=array[np.argmax(counts)]\n",
        "list2=[]\n",
        "for i in range(len(y)):\n",
        "  if(x[i]==mfe2):\n",
        "    list2.append(i)\n",
        "print(f\"mfe2: {mfe2}, indeces:{list2}\")"
      ],
      "metadata": {
        "colab": {
          "base_uri": "https://localhost:8080/"
        },
        "id": "RtaoHf06KI5e",
        "outputId": "b06ab221-fd45-4832-b1e0-c2dd14b86efe"
      },
      "execution_count": null,
      "outputs": [
        {
          "output_type": "stream",
          "name": "stdout",
          "text": [
            "mfe1: 1, indeces:[0, 5, 7, 8, 9]\n",
            "mfe2: 1, indeces:[0, 5, 7, 8, 9]\n"
          ]
        }
      ]
    },
    {
      "cell_type": "code",
      "source": [
        "import numpy as np\n",
        "gfg=np.matrix('[4,1,9;12,3,1;4,5,6]')\n",
        "print(gfg.sum())\n",
        "print(gfg.sum(axis=0))\n",
        "print(gfg.sum(axis=1))\n"
      ],
      "metadata": {
        "colab": {
          "base_uri": "https://localhost:8080/"
        },
        "id": "WFKGm585KkoW",
        "outputId": "a0419375-4808-4bf8-c3b1-63d4f438ff59"
      },
      "execution_count": null,
      "outputs": [
        {
          "output_type": "stream",
          "name": "stdout",
          "text": [
            "45\n",
            "[[20  9 16]]\n",
            "[[14]\n",
            " [16]\n",
            " [15]]\n"
          ]
        }
      ]
    },
    {
      "cell_type": "code",
      "source": [],
      "metadata": {
        "id": "nZM-8JUtD20O"
      },
      "execution_count": null,
      "outputs": []
    }
  ]
}